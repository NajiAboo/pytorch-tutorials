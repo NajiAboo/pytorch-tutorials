{
 "cells": [
  {
   "cell_type": "code",
   "execution_count": 1,
   "id": "487fbccb",
   "metadata": {},
   "outputs": [],
   "source": [
    "import torch"
   ]
  },
  {
   "cell_type": "code",
   "execution_count": 2,
   "id": "264f535b",
   "metadata": {},
   "outputs": [],
   "source": [
    "#Create Multi-D Tensors"
   ]
  },
  {
   "cell_type": "code",
   "execution_count": 3,
   "id": "62795c10",
   "metadata": {},
   "outputs": [],
   "source": [
    "m1 = torch.tensor([1,2,3,4,5,6,7,8])"
   ]
  },
  {
   "cell_type": "code",
   "execution_count": 4,
   "id": "11407a65",
   "metadata": {},
   "outputs": [
    {
     "name": "stdout",
     "output_type": "stream",
     "text": [
      "tensor([1, 2, 3, 4, 5, 6, 7, 8])\n"
     ]
    }
   ],
   "source": [
    "print(m1)"
   ]
  },
  {
   "cell_type": "code",
   "execution_count": 5,
   "id": "97bd6695",
   "metadata": {},
   "outputs": [],
   "source": [
    "m1 = m1.view(2, -1)"
   ]
  },
  {
   "cell_type": "code",
   "execution_count": 6,
   "id": "f5b9dc1c",
   "metadata": {},
   "outputs": [
    {
     "data": {
      "text/plain": [
       "tensor([[1, 2, 3, 4],\n",
       "        [5, 6, 7, 8]])"
      ]
     },
     "execution_count": 6,
     "metadata": {},
     "output_type": "execute_result"
    }
   ],
   "source": [
    "m1"
   ]
  },
  {
   "cell_type": "code",
   "execution_count": 7,
   "id": "2e674033",
   "metadata": {},
   "outputs": [],
   "source": [
    "m2 = torch.randn(2, 3)"
   ]
  },
  {
   "cell_type": "code",
   "execution_count": 8,
   "id": "10caa682",
   "metadata": {},
   "outputs": [
    {
     "name": "stdout",
     "output_type": "stream",
     "text": [
      "tensor([[ 0.9468, -0.1854,  0.9114],\n",
      "        [-0.6039, -0.0114,  1.3672]])\n"
     ]
    }
   ],
   "source": [
    "print(m2)"
   ]
  },
  {
   "cell_type": "code",
   "execution_count": 9,
   "id": "ef15ede5",
   "metadata": {},
   "outputs": [],
   "source": [
    "m3 = torch.arange(0, 8)"
   ]
  },
  {
   "cell_type": "code",
   "execution_count": 10,
   "id": "ac3f707c",
   "metadata": {},
   "outputs": [
    {
     "data": {
      "text/plain": [
       "tensor([0, 1, 2, 3, 4, 5, 6, 7])"
      ]
     },
     "execution_count": 10,
     "metadata": {},
     "output_type": "execute_result"
    }
   ],
   "source": [
    "m3"
   ]
  },
  {
   "cell_type": "code",
   "execution_count": 11,
   "id": "5cff25c0",
   "metadata": {},
   "outputs": [],
   "source": [
    "m3 = m3.view(2, -1)"
   ]
  },
  {
   "cell_type": "code",
   "execution_count": 12,
   "id": "419223ec",
   "metadata": {},
   "outputs": [
    {
     "name": "stdout",
     "output_type": "stream",
     "text": [
      "tensor([[0, 1, 2, 3],\n",
      "        [4, 5, 6, 7]])\n"
     ]
    }
   ],
   "source": [
    "print(m3)"
   ]
  },
  {
   "cell_type": "code",
   "execution_count": 13,
   "id": "80f7402b",
   "metadata": {},
   "outputs": [],
   "source": [
    "m1 = torch.tensor([1,2,3,4])"
   ]
  },
  {
   "cell_type": "code",
   "execution_count": 15,
   "id": "581bf91b",
   "metadata": {},
   "outputs": [],
   "source": [
    "m1 = m1.view(2, 2)"
   ]
  },
  {
   "cell_type": "code",
   "execution_count": 16,
   "id": "11c455c7",
   "metadata": {},
   "outputs": [],
   "source": [
    "m2  = torch.tensor([1,2,3,4])"
   ]
  },
  {
   "cell_type": "code",
   "execution_count": 17,
   "id": "a7239b79",
   "metadata": {},
   "outputs": [],
   "source": [
    "m2 = m2.view(2,2)"
   ]
  },
  {
   "cell_type": "code",
   "execution_count": 18,
   "id": "5995be05",
   "metadata": {},
   "outputs": [
    {
     "name": "stdout",
     "output_type": "stream",
     "text": [
      "tensor([[1, 2],\n",
      "        [3, 4]])\n"
     ]
    }
   ],
   "source": [
    "print(m1)"
   ]
  },
  {
   "cell_type": "code",
   "execution_count": 19,
   "id": "ce33003a",
   "metadata": {},
   "outputs": [
    {
     "name": "stdout",
     "output_type": "stream",
     "text": [
      "tensor([[1, 2],\n",
      "        [3, 4]])\n"
     ]
    }
   ],
   "source": [
    "print(m2)"
   ]
  },
  {
   "cell_type": "code",
   "execution_count": 20,
   "id": "abc2801a",
   "metadata": {},
   "outputs": [
    {
     "data": {
      "text/plain": [
       "tensor([[ 1,  4],\n",
       "        [ 9, 16]])"
      ]
     },
     "execution_count": 20,
     "metadata": {},
     "output_type": "execute_result"
    }
   ],
   "source": [
    "m1 * m2"
   ]
  },
  {
   "cell_type": "code",
   "execution_count": 21,
   "id": "560a1ab8",
   "metadata": {},
   "outputs": [
    {
     "data": {
      "text/plain": [
       "tensor([[ 1,  4],\n",
       "        [ 9, 16]])"
      ]
     },
     "execution_count": 21,
     "metadata": {},
     "output_type": "execute_result"
    }
   ],
   "source": [
    "torch.mul(m1,m2)"
   ]
  },
  {
   "cell_type": "code",
   "execution_count": 22,
   "id": "b15c0518",
   "metadata": {},
   "outputs": [
    {
     "data": {
      "text/plain": [
       "tensor([[ 7, 10],\n",
       "        [15, 22]])"
      ]
     },
     "execution_count": 22,
     "metadata": {},
     "output_type": "execute_result"
    }
   ],
   "source": [
    "torch.matmul(m1, m2)"
   ]
  },
  {
   "cell_type": "code",
   "execution_count": null,
   "id": "4bb1b11b",
   "metadata": {},
   "outputs": [],
   "source": []
  },
  {
   "cell_type": "code",
   "execution_count": 23,
   "id": "0eb89bcf",
   "metadata": {},
   "outputs": [
    {
     "data": {
      "text/plain": [
       "tensor([[1, 2],\n",
       "        [3, 4]])"
      ]
     },
     "execution_count": 23,
     "metadata": {},
     "output_type": "execute_result"
    }
   ],
   "source": [
    "m1"
   ]
  },
  {
   "cell_type": "code",
   "execution_count": 24,
   "id": "ba09dd26",
   "metadata": {},
   "outputs": [
    {
     "data": {
      "text/plain": [
       "tensor(1)"
      ]
     },
     "execution_count": 24,
     "metadata": {},
     "output_type": "execute_result"
    }
   ],
   "source": [
    "m1[0,0]"
   ]
  },
  {
   "cell_type": "code",
   "execution_count": 25,
   "id": "bcf6ebce",
   "metadata": {},
   "outputs": [
    {
     "data": {
      "text/plain": [
       "tensor(2)"
      ]
     },
     "execution_count": 25,
     "metadata": {},
     "output_type": "execute_result"
    }
   ],
   "source": [
    "m1[0,1]"
   ]
  },
  {
   "cell_type": "code",
   "execution_count": 26,
   "id": "b0533d61",
   "metadata": {},
   "outputs": [
    {
     "data": {
      "text/plain": [
       "tensor(3)"
      ]
     },
     "execution_count": 26,
     "metadata": {},
     "output_type": "execute_result"
    }
   ],
   "source": [
    "m1[1,0]"
   ]
  },
  {
   "cell_type": "code",
   "execution_count": 27,
   "id": "0ae2e0d3",
   "metadata": {},
   "outputs": [
    {
     "data": {
      "text/plain": [
       "tensor(4)"
      ]
     },
     "execution_count": 27,
     "metadata": {},
     "output_type": "execute_result"
    }
   ],
   "source": [
    "m1[1,1]"
   ]
  },
  {
   "cell_type": "code",
   "execution_count": null,
   "id": "7bbaf3bb",
   "metadata": {},
   "outputs": [],
   "source": []
  },
  {
   "cell_type": "code",
   "execution_count": null,
   "id": "b779a0d9",
   "metadata": {},
   "outputs": [],
   "source": []
  }
 ],
 "metadata": {
  "kernelspec": {
   "display_name": "Python 3 (ipykernel)",
   "language": "python",
   "name": "python3"
  },
  "language_info": {
   "codemirror_mode": {
    "name": "ipython",
    "version": 3
   },
   "file_extension": ".py",
   "mimetype": "text/x-python",
   "name": "python",
   "nbconvert_exporter": "python",
   "pygments_lexer": "ipython3",
   "version": "3.8.13"
  }
 },
 "nbformat": 4,
 "nbformat_minor": 5
}

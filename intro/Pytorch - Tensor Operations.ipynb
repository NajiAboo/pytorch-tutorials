{
 "cells": [
  {
   "cell_type": "code",
   "execution_count": 1,
   "id": "19eb0d26",
   "metadata": {},
   "outputs": [],
   "source": [
    "import torch"
   ]
  },
  {
   "cell_type": "code",
   "execution_count": 2,
   "id": "3d59f656",
   "metadata": {},
   "outputs": [],
   "source": [
    "one = torch.tensor([5,6,7])"
   ]
  },
  {
   "cell_type": "code",
   "execution_count": 3,
   "id": "dc9ccaca",
   "metadata": {},
   "outputs": [],
   "source": [
    "two = torch.tensor([1,2,3])"
   ]
  },
  {
   "cell_type": "code",
   "execution_count": 4,
   "id": "17102de7",
   "metadata": {},
   "outputs": [],
   "source": [
    "sum = one + two "
   ]
  },
  {
   "cell_type": "code",
   "execution_count": 5,
   "id": "c9a91d5a",
   "metadata": {},
   "outputs": [
    {
     "name": "stdout",
     "output_type": "stream",
     "text": [
      "tensor([ 6,  8, 10])\n"
     ]
    }
   ],
   "source": [
    "print(sum)"
   ]
  },
  {
   "cell_type": "code",
   "execution_count": 6,
   "id": "a7e4e667",
   "metadata": {},
   "outputs": [],
   "source": [
    "mult = one * two"
   ]
  },
  {
   "cell_type": "code",
   "execution_count": 7,
   "id": "0043e1ca",
   "metadata": {},
   "outputs": [
    {
     "name": "stdout",
     "output_type": "stream",
     "text": [
      "tensor([ 5, 12, 21])\n"
     ]
    }
   ],
   "source": [
    "print(mult)"
   ]
  },
  {
   "cell_type": "code",
   "execution_count": 8,
   "id": "ae38716d",
   "metadata": {},
   "outputs": [
    {
     "data": {
      "text/plain": [
       "tensor([10, 11, 12])"
      ]
     },
     "execution_count": 8,
     "metadata": {},
     "output_type": "execute_result"
    }
   ],
   "source": [
    "one + 5"
   ]
  },
  {
   "cell_type": "code",
   "execution_count": 9,
   "id": "fb617bf7",
   "metadata": {},
   "outputs": [],
   "source": [
    "sub = one - two"
   ]
  },
  {
   "cell_type": "code",
   "execution_count": 10,
   "id": "29a66eb9",
   "metadata": {},
   "outputs": [
    {
     "name": "stdout",
     "output_type": "stream",
     "text": [
      "tensor([4, 4, 4])\n"
     ]
    }
   ],
   "source": [
    "print(sub)"
   ]
  },
  {
   "cell_type": "code",
   "execution_count": 11,
   "id": "8b93f002",
   "metadata": {},
   "outputs": [],
   "source": [
    "dot_op = torch.dot(one, two)"
   ]
  },
  {
   "cell_type": "code",
   "execution_count": 12,
   "id": "c1e14e9a",
   "metadata": {},
   "outputs": [
    {
     "name": "stdout",
     "output_type": "stream",
     "text": [
      "tensor(38)\n"
     ]
    }
   ],
   "source": [
    "print(dot_op)"
   ]
  },
  {
   "cell_type": "code",
   "execution_count": 14,
   "id": "1f3cca69",
   "metadata": {},
   "outputs": [
    {
     "data": {
      "text/plain": [
       "tensor([ 0.0000,  2.5000,  5.0000,  7.5000, 10.0000])"
      ]
     },
     "execution_count": 14,
     "metadata": {},
     "output_type": "execute_result"
    }
   ],
   "source": [
    "torch.linspace(0, 10, 5)"
   ]
  },
  {
   "cell_type": "code",
   "execution_count": null,
   "id": "a9f2fcfa",
   "metadata": {},
   "outputs": [],
   "source": []
  }
 ],
 "metadata": {
  "kernelspec": {
   "display_name": "Python 3 (ipykernel)",
   "language": "python",
   "name": "python3"
  },
  "language_info": {
   "codemirror_mode": {
    "name": "ipython",
    "version": 3
   },
   "file_extension": ".py",
   "mimetype": "text/x-python",
   "name": "python",
   "nbconvert_exporter": "python",
   "pygments_lexer": "ipython3",
   "version": "3.8.13"
  }
 },
 "nbformat": 4,
 "nbformat_minor": 5
}

{
 "cells": [
  {
   "cell_type": "code",
   "execution_count": 1,
   "id": "87c51e08",
   "metadata": {},
   "outputs": [],
   "source": [
    "# Consider x = 2"
   ]
  },
  {
   "cell_type": "code",
   "execution_count": 2,
   "id": "5790810c",
   "metadata": {},
   "outputs": [
    {
     "data": {
      "text/plain": [
       "128"
      ]
     },
     "execution_count": 2,
     "metadata": {},
     "output_type": "execute_result"
    }
   ],
   "source": [
    "4*8+18*4+10*2+4"
   ]
  },
  {
   "cell_type": "code",
   "execution_count": 3,
   "id": "07748585",
   "metadata": {},
   "outputs": [],
   "source": [
    "import torch"
   ]
  },
  {
   "cell_type": "code",
   "execution_count": 4,
   "id": "a70c1eab",
   "metadata": {},
   "outputs": [],
   "source": [
    "x =torch.tensor(2.0, requires_grad=True)"
   ]
  },
  {
   "cell_type": "code",
   "execution_count": 5,
   "id": "d2a21c13",
   "metadata": {},
   "outputs": [],
   "source": [
    "y = x**4+6*x**3+5*x**2+4*x+5"
   ]
  },
  {
   "cell_type": "code",
   "execution_count": 6,
   "id": "1a055436",
   "metadata": {},
   "outputs": [],
   "source": [
    "y.backward()"
   ]
  },
  {
   "cell_type": "code",
   "execution_count": 7,
   "id": "3b383fff",
   "metadata": {},
   "outputs": [
    {
     "name": "stdout",
     "output_type": "stream",
     "text": [
      "tensor(128.)\n"
     ]
    }
   ],
   "source": [
    "print(x.grad)"
   ]
  },
  {
   "cell_type": "code",
   "execution_count": null,
   "id": "c8ab77ad",
   "metadata": {},
   "outputs": [],
   "source": []
  },
  {
   "cell_type": "code",
   "execution_count": null,
   "id": "ef460472",
   "metadata": {},
   "outputs": [],
   "source": []
  }
 ],
 "metadata": {
  "kernelspec": {
   "display_name": "Python 3 (ipykernel)",
   "language": "python",
   "name": "python3"
  },
  "language_info": {
   "codemirror_mode": {
    "name": "ipython",
    "version": 3
   },
   "file_extension": ".py",
   "mimetype": "text/x-python",
   "name": "python",
   "nbconvert_exporter": "python",
   "pygments_lexer": "ipython3",
   "version": "3.9.7"
  }
 },
 "nbformat": 4,
 "nbformat_minor": 5
}
